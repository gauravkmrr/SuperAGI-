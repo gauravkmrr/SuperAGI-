{
 "cells": [
  {
   "cell_type": "code",
   "execution_count": 1,
   "id": "afc89235",
   "metadata": {},
   "outputs": [],
   "source": [
    "import torch\n",
    "import torch.nn as nn\n",
    "from torch.nn import functional as F\n",
    "import matplotlib.pyplot as plt"
   ]
  },
  {
   "cell_type": "code",
   "execution_count": 2,
   "id": "e9dfc5e2",
   "metadata": {},
   "outputs": [],
   "source": [
    "# hyperparameters\n",
    "batch_size = 16 # how many independent sequences will we process in parallel?\n",
    "block_size = 32 # what is the maximum context length for predictions?\n",
    "max_iters = 5000\n",
    "eval_interval = 100\n",
    "learning_rate = 3e-4\n",
    "device = 'cuda' if torch.cuda.is_available() else 'cpu'\n",
    "eval_iters = 200\n",
    "n_embd = 64\n",
    "n_head = 4\n",
    "n_layer = 4\n",
    "dropout = 0.0"
   ]
  },
  {
   "cell_type": "code",
   "execution_count": 3,
   "id": "3731611d",
   "metadata": {},
   "outputs": [
    {
     "data": {
      "text/plain": [
       "<torch._C.Generator at 0x10bed6df0>"
      ]
     },
     "execution_count": 3,
     "metadata": {},
     "output_type": "execute_result"
    }
   ],
   "source": [
    "torch.manual_seed(1337)"
   ]
  },
  {
   "cell_type": "code",
   "execution_count": 4,
   "id": "41cfba80",
   "metadata": {},
   "outputs": [],
   "source": [
    "with open('input.txt', 'r', encoding='utf-8') as f:\n",
    "    text = f.read()\n"
   ]
  },
  {
   "cell_type": "code",
   "execution_count": 5,
   "id": "f970e7b6",
   "metadata": {},
   "outputs": [],
   "source": [
    "# here are all the unique characters that occur in this text\n",
    "chars = sorted(list(set(text)))\n",
    "vocab_size = len(chars)\n",
    "# create a mapping from characters to integers\n",
    "stoi = { ch:i for i,ch in enumerate(chars) }\n",
    "itos = { i:ch for i,ch in enumerate(chars) }\n",
    "encode = lambda s: [stoi[c] for c in s] # encoder: take a string, output a list of integers\n",
    "decode = lambda l: ''.join([itos[i] for i in l]) # decoder: take a list of integers, output a string\n"
   ]
  },
  {
   "cell_type": "code",
   "execution_count": 6,
   "id": "d7b8341a",
   "metadata": {},
   "outputs": [],
   "source": [
    "# Train and test splits\n",
    "data = torch.tensor(encode(text), dtype=torch.long)\n",
    "n = int(0.9*len(data)) # first 90% will be train, rest val\n",
    "train_data = data[:n]\n",
    "val_data = data[n:]"
   ]
  },
  {
   "cell_type": "code",
   "execution_count": 7,
   "id": "7e26c4d9",
   "metadata": {},
   "outputs": [],
   "source": [
    "# data loading\n",
    "def get_batch(split):\n",
    "    # generate a small batch of data of inputs x and targets y\n",
    "    data = train_data if split == 'train' else val_data\n",
    "    ix = torch.randint(len(data) - block_size, (batch_size,))\n",
    "    x = torch.stack([data[i:i+block_size] for i in ix])\n",
    "    y = torch.stack([data[i+1:i+block_size+1] for i in ix])\n",
    "    x, y = x.to(device), y.to(device)\n",
    "    return x, y"
   ]
  },
  {
   "cell_type": "code",
   "execution_count": 8,
   "id": "470e108b",
   "metadata": {},
   "outputs": [],
   "source": [
    "def estimate_loss():\n",
    "    out = {}\n",
    "    model.eval()\n",
    "    for split in ['train', 'val']:\n",
    "        losses = torch.zeros(eval_iters)\n",
    "        for k in range(eval_iters):\n",
    "            X, Y = get_batch(split)\n",
    "            logits, loss = model(X, Y)\n",
    "            losses[k] = loss.item()\n",
    "        out[split] = losses.mean()\n",
    "    model.train()\n",
    "    return out\n"
   ]
  },
  {
   "cell_type": "code",
   "execution_count": 9,
   "id": "076df0e2",
   "metadata": {},
   "outputs": [],
   "source": [
    "class Head(nn.Module):\n",
    "    \"\"\" one head of self-attention \"\"\"\n",
    "\n",
    "    def __init__(self, head_size):\n",
    "        super().__init__()\n",
    "        self.key = nn.Linear(n_embd, head_size, bias=False)\n",
    "        self.query = nn.Linear(n_embd, head_size, bias=False)\n",
    "        self.value = nn.Linear(n_embd, head_size, bias=False)\n",
    "        self.register_buffer('tril', torch.tril(torch.ones(block_size, block_size)))\n",
    "\n",
    "        self.dropout = nn.Dropout(dropout)\n",
    "\n",
    "    def forward(self, x):\n",
    "        B,T,C = x.shape\n",
    "        k = self.key(x)   # (B,T,C)\n",
    "        q = self.query(x) # (B,T,C)\n",
    "        # compute attention scores (\"affinities\")\n",
    "        wei = q @ k.transpose(-2,-1) * C**-0.5 # (B, T, C) @ (B, C, T) -> (B, T, T)\n",
    "        wei = wei.masked_fill(self.tril[:T, :T] == 0, float('-inf')) # (B, T, T)\n",
    "        wei = F.softmax(wei, dim=-1) # (B, T, T)\n",
    "        wei = self.dropout(wei)\n",
    "        # perform the weighted aggregation of the values\n",
    "        v = self.value(x) # (B,T,C)\n",
    "        out = wei @ v # (B, T, T) @ (B, T, C) -> (B, T, C)\n",
    "        return out\n",
    "    "
   ]
  },
  {
   "cell_type": "code",
   "execution_count": 10,
   "id": "1db595f5",
   "metadata": {},
   "outputs": [],
   "source": [
    "class MultiHeadAttention(nn.Module):\n",
    "    \"\"\" multiple heads of self-attention in parallel \"\"\"\n",
    "\n",
    "    def __init__(self, num_heads, head_size):\n",
    "        super().__init__()\n",
    "        self.heads = nn.ModuleList([Head(head_size) for _ in range(num_heads)])\n",
    "        self.proj = nn.Linear(n_embd, n_embd)\n",
    "        self.dropout = nn.Dropout(dropout)\n",
    "\n",
    "    def forward(self, x):\n",
    "        out = torch.cat([h(x) for h in self.heads], dim=-1)\n",
    "        out = self.dropout(self.proj(out))\n",
    "        return out"
   ]
  },
  {
   "cell_type": "code",
   "execution_count": 11,
   "id": "6c734165",
   "metadata": {},
   "outputs": [],
   "source": [
    "class FeedFoward(nn.Module):\n",
    "    \"\"\" a simple linear layer followed by a non-linearity \"\"\"\n",
    "\n",
    "    def __init__(self, n_embd):\n",
    "        super().__init__()\n",
    "        self.net = nn.Sequential(\n",
    "            nn.Linear(n_embd, 4 * n_embd),\n",
    "            nn.ReLU(),\n",
    "            nn.Linear(4 * n_embd, n_embd),\n",
    "            nn.Dropout(dropout),\n",
    "        )\n",
    "\n",
    "    def forward(self, x):\n",
    "        return self.net(x)"
   ]
  },
  {
   "cell_type": "code",
   "execution_count": 12,
   "id": "ba957b71",
   "metadata": {},
   "outputs": [],
   "source": [
    "class Block(nn.Module):\n",
    "    \"\"\" Transformer block: communication followed by computation \"\"\"\n",
    "\n",
    "    def __init__(self, n_embd, n_head):\n",
    "        # n_embd: embedding dimension, n_head: the number of heads we'd like\n",
    "        super().__init__()\n",
    "        head_size = n_embd // n_head\n",
    "        self.sa = MultiHeadAttention(n_head, head_size)\n",
    "        self.ffwd = FeedFoward(n_embd)\n",
    "        self.ln1 = nn.LayerNorm(n_embd)\n",
    "        self.ln2 = nn.LayerNorm(n_embd)\n",
    "\n",
    "    def forward(self, x):\n",
    "        x = x + self.sa(self.ln1(x))\n",
    "        x = x + self.ffwd(self.ln2(x))\n",
    "        return x"
   ]
  },
  {
   "cell_type": "code",
   "execution_count": 13,
   "id": "f08e5cd5",
   "metadata": {},
   "outputs": [],
   "source": [
    "class MyLM_Model(nn.Module):    \n",
    "  #A Bigram Language Model is a type of statistical language model that \n",
    "  #predicts the probability of a word in a sequence based on the preceding word\n",
    "\n",
    "  def __init__(self):\n",
    "     super().__init__()\n",
    "\n",
    "      # each token directly reads off the logits for the next token from a lookup table\n",
    "     self.token_embedding_table = nn.Embedding(vocab_size,n_embd)\n",
    "     self.position_embedding_table = nn.Embedding(block_size, n_embd)\n",
    "     self.blocks = nn.Sequential(*[Block(n_embd, n_head=n_head) for _ in range(n_layer)])\n",
    "     self.ln_f = nn.LayerNorm(n_embd) # final layer norm\n",
    "     self.lm_head = nn.Linear(n_embd,vocab_size)\n",
    "     \n",
    "\n",
    "  def forward(self,idx,targets=None):\n",
    "    \n",
    "    B, T = idx.shape\n",
    "\n",
    "    # idx and targets are both (B,T) tensor of integers\n",
    "    tok_emb = self.token_embedding_table(idx) #(Batch,time,channel)\n",
    "    pos_emb = self.position_embedding_table(torch.arange(T, device=device)) # T,C\n",
    "    x = tok_emb + pos_emb #(B,T,C)\n",
    "    x = self.blocks(x) # (B,T,C)\n",
    "    x = self.ln_f(x) # (B,T,C)\n",
    "    logits = self.lm_head(x) #(B,T,Vocab_size)\n",
    "    \n",
    "    \n",
    "    if targets is None:\n",
    "      loss = None\n",
    "    else:\n",
    "      B, T, C = logits.shape\n",
    "      logits = logits.view(B*T,C)\n",
    "      targets = targets.view(B*T)\n",
    "      loss = F.cross_entropy(logits, targets)\n",
    "\n",
    "    return logits, loss\n",
    "\n",
    "  def generate(self, idx, max_new_tokens):\n",
    "        # idx is (B, T) array of indices in the current context\n",
    "      for _ in range(max_new_tokens):\n",
    "          # crop idx to the last block_size tokens\n",
    "          idx_cond = idx[:, -block_size:]\n",
    "          # get the predictions\n",
    "          logits, loss = self(idx_cond)\n",
    "          # focus only on the last time step\n",
    "          logits = logits[:, -1, :] # becomes (B, C)\n",
    "          # apply softmax to get probabilities\n",
    "          probs = F.softmax(logits, dim=-1) # (B, C)\n",
    "          # sample from the distribution\n",
    "          idx_next = torch.multinomial(probs, num_samples=1) # (B, 1)\n",
    "          # append sampled index to the running sequence\n",
    "          idx = torch.cat((idx, idx_next), dim=1) # (B, T+1)\n",
    "      return idx"
   ]
  },
  {
   "cell_type": "code",
   "execution_count": 14,
   "id": "874d3a30",
   "metadata": {},
   "outputs": [],
   "source": [
    "model = MyLM_Model()\n",
    "m = model.to(device)"
   ]
  },
  {
   "cell_type": "code",
   "execution_count": 15,
   "id": "08e88b69",
   "metadata": {},
   "outputs": [],
   "source": [
    "# create a PyTorch optimizer\n",
    "optimizer = torch.optim.AdamW(model.parameters(), lr=learning_rate)"
   ]
  },
  {
   "cell_type": "code",
   "execution_count": 16,
   "id": "31a4da5e",
   "metadata": {},
   "outputs": [
    {
     "name": "stdout",
     "output_type": "stream",
     "text": [
      "step 0: train loss 3.9128, val loss 3.9120\n",
      "step 100: train loss 2.7229, val loss 2.7379\n",
      "step 200: train loss 2.4230, val loss 2.4883\n",
      "step 300: train loss 2.2821, val loss 2.4353\n",
      "step 400: train loss 2.1644, val loss 2.4203\n",
      "step 500: train loss 2.0546, val loss 2.3728\n",
      "step 600: train loss 1.9138, val loss 2.3739\n",
      "step 700: train loss 1.7628, val loss 2.3600\n",
      "step 800: train loss 1.5910, val loss 2.3932\n",
      "step 900: train loss 1.4208, val loss 2.4127\n",
      "step 1000: train loss 1.2344, val loss 2.4315\n",
      "step 1100: train loss 1.0549, val loss 2.4910\n",
      "step 1200: train loss 0.8970, val loss 2.5960\n",
      "step 1300: train loss 0.7415, val loss 2.6260\n",
      "step 1400: train loss 0.6029, val loss 2.7675\n",
      "step 1500: train loss 0.5213, val loss 2.8966\n",
      "step 1600: train loss 0.4465, val loss 3.0765\n",
      "step 1700: train loss 0.3892, val loss 3.0858\n",
      "step 1800: train loss 0.3515, val loss 3.1855\n",
      "step 1900: train loss 0.3161, val loss 3.3026\n",
      "step 2000: train loss 0.2946, val loss 3.3195\n",
      "step 2100: train loss 0.2700, val loss 3.4395\n",
      "step 2200: train loss 0.2608, val loss 3.5509\n",
      "step 2300: train loss 0.2484, val loss 3.4688\n",
      "step 2400: train loss 0.2449, val loss 3.5957\n",
      "step 2500: train loss 0.2327, val loss 3.7965\n",
      "step 2600: train loss 0.2250, val loss 3.7155\n",
      "step 2700: train loss 0.2251, val loss 3.6363\n",
      "step 2800: train loss 0.2116, val loss 3.6074\n",
      "step 2900: train loss 0.2114, val loss 3.8608\n",
      "step 3000: train loss 0.2060, val loss 3.8349\n",
      "step 3100: train loss 0.2016, val loss 3.8070\n",
      "step 3200: train loss 0.2055, val loss 3.8178\n",
      "step 3300: train loss 0.1983, val loss 3.9207\n",
      "step 3400: train loss 0.1908, val loss 3.9221\n",
      "step 3500: train loss 0.1896, val loss 3.9412\n",
      "step 3600: train loss 0.1953, val loss 3.9738\n",
      "step 3700: train loss 0.1917, val loss 4.0906\n",
      "step 3800: train loss 0.1944, val loss 3.9781\n",
      "step 3900: train loss 0.1861, val loss 4.0853\n",
      "step 4000: train loss 0.1817, val loss 3.9627\n",
      "step 4100: train loss 0.1842, val loss 4.0581\n",
      "step 4200: train loss 0.1794, val loss 4.0141\n",
      "step 4300: train loss 0.1861, val loss 4.0897\n",
      "step 4400: train loss 0.1761, val loss 4.0403\n",
      "step 4500: train loss 0.1795, val loss 4.1077\n",
      "step 4600: train loss 0.1778, val loss 4.0207\n",
      "step 4700: train loss 0.1774, val loss 4.1035\n",
      "step 4800: train loss 0.1747, val loss 4.1150\n",
      "step 4900: train loss 0.1733, val loss 4.0834\n",
      "step 4999: train loss 0.1756, val loss 4.0195\n"
     ]
    },
    {
     "data": {
      "image/png": "[encoded data removed]",
      "text/plain": [
       "<Figure size 640x480 with 1 Axes>"
      ]
     },
     "metadata": {},
     "output_type": "display_data"
    }
   ],
   "source": [
    "train_losses = []\n",
    "val_losses = []\n",
    "\n",
    "for iter in range(max_iters):\n",
    "\n",
    "    # every once in a while evaluate the loss on train and val sets\n",
    "    if iter % eval_interval == 0 or iter == max_iters - 1:\n",
    "        losses = estimate_loss()\n",
    "        train_losses.append(losses['train'].item())\n",
    "        val_losses.append(losses['val'].item())\n",
    "        print(f\"step {iter}: train loss {losses['train']:.4f}, val loss {losses['val']:.4f}\")\n",
    "\n",
    "    # sample a batch of data\n",
    "    xb, yb = get_batch('train')\n",
    "\n",
    "    # evaluate the loss\n",
    "    logits, loss = model(xb, yb)\n",
    "    optimizer.zero_grad(set_to_none=True)\n",
    "    loss.backward()\n",
    "    optimizer.step()\n",
    "plt.plot(train_losses, label='Training Loss')\n",
    "plt.plot(val_losses, label='Validation Loss')\n",
    "plt.title('Training and Validation Loss')\n",
    "plt.xlabel('Evaluation Interval')\n",
    "plt.ylabel('Loss')\n",
    "plt.legend()\n",
    "plt.show()"
   ]
  },
  {
   "cell_type": "code",
   "execution_count": 17,
   "id": "d81f0014",
   "metadata": {},
   "outputs": [
    {
     "name": "stdout",
     "output_type": "stream",
     "text": [
      "\n",
      "\n",
      "OpenAI aims  of concapabing with other institutions, and avoiding uses of AI that may harm humanity or concentrate power.\n",
      "\n",
      "The organization was founded in December 2015 as a non-profit, with the goal of conducting nhatbots, conduting research to advance AI capabilities and ensured ins pritions ampache sb.\n",
      "\n",
      "OpenAI and conung-eresfe traitutions, and avoiding uses of AI that may harm humanity or concentratente power.\n",
      "\n",
      "The organization was founded in December 2015 as a non-profit, with the goal of conducting research to advance AI capabilities and ensure its positive impact. In 2019, OpenAI transitioned to a for-profit company, stating that it would use any influence it obtains over AGI deployment to ensure it is used for the benefit of all.\n",
      "\n",
      "OpenAI has made significant contributions to the field of AI and natural language processing. They have developed various language models, including the GPT (Generative Pre-trained Transformer) series. GPT models are trained on massive amo enrefach, \n"
     ]
    }
   ],
   "source": [
    "# generate from the model\n",
    "context = torch.zeros((1, 1), dtype=torch.long, device=device)\n",
    "print(decode(m.generate(context, max_new_tokens=1000)[0].tolist()))"
   ]
  },
  {
   "cell_type": "code",
   "execution_count": null,
   "id": "e7d2cdbd",
   "metadata": {},
   "outputs": [],
   "source": []
  }
 ],
 "metadata": {
  "kernelspec": {
   "display_name": "Python 3 (ipykernel)",
   "language": "python",
   "name": "python3"
  },
  "language_info": {
   "codemirror_mode": {
    "name": "ipython",
    "version": 3
   },
   "file_extension": ".py",
   "mimetype": "text/x-python",
   "name": "python",
   "nbconvert_exporter": "python",
   "pygments_lexer": "ipython3",
   "version": "3.11.4"
  }
 },
 "nbformat": 4,
 "nbformat_minor": 5
}
