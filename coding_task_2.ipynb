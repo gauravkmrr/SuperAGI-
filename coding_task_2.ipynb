{
 "cells": [
  {
   "cell_type": "code",
   "execution_count": 23,
   "id": "d12cd626",
   "metadata": {},
   "outputs": [],
   "source": [
    "import torch\n",
    "import torch.nn as nn\n",
    "from torch.nn import functional as F\n",
    "import math\n",
    "import matplotlib.pyplot as plt"
   ]
  },
  {
   "cell_type": "code",
   "execution_count": 24,
   "id": "cd7266e6",
   "metadata": {},
   "outputs": [],
   "source": [
    "# hyperparameters\n",
    "batch_size = 32 # how many independent sequences will we process in parallel?\n",
    "block_size = 16 # what is the maximum context length for predictions?\n",
    "max_iters = 5000\n",
    "eval_interval = 100\n",
    "learning_rate = 3e-4\n",
    "device = 'cuda' if torch.cuda.is_available() else 'cpu'\n",
    "eval_iters = 200\n",
    "n_embd = 64\n",
    "n_head = 4\n",
    "n_layer = 4\n",
    "dropout = 0.0\n",
    "num_groups = 2  \n",
    "window_size = 5"
   ]
  },
  {
   "cell_type": "code",
   "execution_count": 25,
   "id": "01eb94ae",
   "metadata": {},
   "outputs": [
    {
     "data": {
      "text/plain": [
       "<torch._C.Generator at 0x106a9bd50>"
      ]
     },
     "execution_count": 25,
     "metadata": {},
     "output_type": "execute_result"
    }
   ],
   "source": [
    "torch.manual_seed(1337)"
   ]
  },
  {
   "cell_type": "code",
   "execution_count": 26,
   "id": "418043f9",
   "metadata": {},
   "outputs": [],
   "source": [
    "with open('input.txt', 'r', encoding='utf-8') as f:\n",
    "    text = f.read()"
   ]
  },
  {
   "cell_type": "code",
   "execution_count": 27,
   "id": "ad571b35",
   "metadata": {},
   "outputs": [],
   "source": [
    "# here are all the unique characters that occur in this text\n",
    "chars = sorted(list(set(text)))\n",
    "vocab_size = len(chars)\n",
    "# create a mapping from characters to integers\n",
    "stoi = { ch:i for i,ch in enumerate(chars) }\n",
    "itos = { i:ch for i,ch in enumerate(chars) }\n",
    "encode = lambda s: [stoi[c] for c in s] # encoder: take a string, output a list of integers\n",
    "decode = lambda l: ''.join([itos[i] for i in l]) # decoder: take a list of integers, output a string"
   ]
  },
  {
   "cell_type": "code",
   "execution_count": 28,
   "id": "941bbc88",
   "metadata": {},
   "outputs": [],
   "source": [
    "# Train and test splits\n",
    "data = torch.tensor(encode(text), dtype=torch.long)\n",
    "n = int(0.9*len(data)) # first 90% will be train, rest val\n",
    "train_data = data[:n]\n",
    "val_data = data[n:]\n"
   ]
  },
  {
   "cell_type": "code",
   "execution_count": 29,
   "id": "6dd5a36b",
   "metadata": {},
   "outputs": [],
   "source": [
    "# data loading\n",
    "def get_batch(split):\n",
    "    # generate a small batch of data of inputs x and targets y\n",
    "    data = train_data if split == 'train' else val_data\n",
    "    ix = torch.randint(len(data) - block_size, (batch_size,))\n",
    "    x = torch.stack([data[i:i+block_size] for i in ix])\n",
    "    y = torch.stack([data[i+1:i+block_size+1] for i in ix])\n",
    "    x, y = x.to(device), y.to(device)\n",
    "    return x, y"
   ]
  },
  {
   "cell_type": "code",
   "execution_count": 30,
   "id": "f89a75ec",
   "metadata": {},
   "outputs": [],
   "source": [
    "def estimate_loss():\n",
    "    out = {}\n",
    "    model.eval()\n",
    "    for split in ['train', 'val']:\n",
    "        losses = torch.zeros(eval_iters)\n",
    "        for k in range(eval_iters):\n",
    "            X, Y = get_batch(split)\n",
    "            logits, loss = model(X, Y)\n",
    "            losses[k] = loss.item()\n",
    "        out[split] = losses.mean()\n",
    "    model.train()\n",
    "    return out"
   ]
  },
  {
   "cell_type": "code",
   "execution_count": 31,
   "id": "c020d81b",
   "metadata": {},
   "outputs": [],
   "source": [
    "class RotaryPositionalEmbedding(nn.Module):\n",
    "    def __init__(self, dim, max_seq_len=512):\n",
    "        super().__init__()\n",
    "        # Create constant 'pe' matrix with values dependent on \n",
    "        # pos and i\n",
    "        pe = torch.zeros(max_seq_len, dim)\n",
    "        position = torch.arange(0, max_seq_len, dtype=torch.float).unsqueeze(1)\n",
    "        div_term = torch.exp(torch.arange(0, dim, 2).float() * (-math.log(10000.0) / dim))\n",
    "        pe[:, 0::2] = torch.sin(position * div_term)\n",
    "        pe[:, 1::2] = torch.cos(position * div_term)\n",
    "        pe = pe.unsqueeze(0)\n",
    "        self.register_buffer('pe', pe)\n",
    "\n",
    "    def forward(self, x):\n",
    "        # x: [batch_size, seq_len, embedding_dim]\n",
    "        # Apply RoPE to x\n",
    "        x = x + self.pe[:, :x.size(1)]\n",
    "        return x\n"
   ]
  },
  {
   "cell_type": "code",
   "execution_count": 32,
   "id": "08eb20b0",
   "metadata": {},
   "outputs": [],
   "source": [
    "class GroupQueryAttention(nn.Module):\n",
    "    def __init__(self, head_size, num_groups):\n",
    "        super().__init__()\n",
    "        self.head_size = head_size\n",
    "        self.num_groups = num_groups\n",
    "\n",
    "    def forward(self, query, key, value):\n",
    "        # Ensure the head_size is divisible by num_groups\n",
    "        if self.head_size % self.num_groups != 0:\n",
    "            raise ValueError(\"head_size must be divisible by num_groups\")\n",
    "\n",
    "        # Reshape query, key, and value for group-wise attention\n",
    "        # The shape will be [batch_size, seq_length, num_groups, head_size_per_group]\n",
    "        query_groups = query.view(query.size(0), query.size(1), self.num_groups, -1)\n",
    "        key_groups = key.view(key.size(0), key.size(1), self.num_groups, -1)\n",
    "        value_groups = value.view(value.size(0), value.size(1), self.num_groups, -1)\n",
    "\n",
    "        # Compute attention scores\n",
    "        # 'bthg,bshg->btsg' means:\n",
    "        #   - b = batch size\n",
    "        #   - t = target sequence length\n",
    "        #   - s = source sequence length\n",
    "        #   - h = head size\n",
    "        #   - g = number of groups\n",
    "        attention_scores = torch.einsum('bthg,bshg->btsg', query_groups, key_groups)\n",
    "        attention_scores = F.softmax(attention_scores, dim=-1)\n",
    "\n",
    "        # Compute weighted sum of values\n",
    "        out = torch.einsum('btsg,bshg->bthg', attention_scores, value_groups)\n",
    "\n",
    "        # Reshape to concatenate the groups\n",
    "        out = out.reshape(query.size(0), query.size(1), -1)\n",
    "        return out\n"
   ]
  },
  {
   "cell_type": "code",
   "execution_count": 33,
   "id": "f5561729",
   "metadata": {},
   "outputs": [],
   "source": [
    "# Sliding Window Attention\n",
    "def sliding_window_mask(seq_len, window_size, device):\n",
    "    center = torch.arange(seq_len, device=device).unsqueeze(0)\n",
    "    mask = torch.abs(center - center.T) <= window_size\n",
    "    return mask"
   ]
  },
  {
   "cell_type": "code",
   "execution_count": 34,
   "id": "71c3cc61",
   "metadata": {},
   "outputs": [],
   "source": [
    "class ModifiedHead(nn.Module):\n",
    "    \"\"\" One head of self-attention with Group Query Attention and Sliding Window Attention \"\"\"\n",
    "\n",
    "    def __init__(self, n_embd, head_size, num_groups, window_size):\n",
    "        super().__init__()\n",
    "        self.num_groups = num_groups\n",
    "        self.window_size = window_size\n",
    "        self.head_size = head_size\n",
    "\n",
    "        # Linear transformations for key, query, and value\n",
    "        self.key = nn.Linear(n_embd, head_size, bias=False)\n",
    "        self.query = nn.Linear(n_embd, head_size, bias=False)\n",
    "        self.value = nn.Linear(n_embd, head_size, bias=False)\n",
    "\n",
    "        # Group Query Attention\n",
    "        self.group_query_attention = GroupQueryAttention(head_size, num_groups)\n",
    "\n",
    "        # Dropout layer\n",
    "        self.dropout = nn.Dropout(dropout)\n",
    "\n",
    "    def forward(self, x):\n",
    "        B, T, _ = x.shape\n",
    "\n",
    "        # Compute key, query, and value\n",
    "        k = self.key(x)   # (B, T, head_size)\n",
    "        q = self.query(x) # (B, T, head_size)\n",
    "        v = self.value(x) # (B, T, head_size)\n",
    "        q = q.view(B, T, self.num_groups, -1)\n",
    "\n",
    "        # Create the sliding window mask for each group\n",
    "        window_mask = sliding_window_mask(T, self.window_size, x.device)\n",
    "        window_mask = window_mask.unsqueeze(1).repeat(1, self.num_groups, 1, 1)\n",
    "        # Apply the mask to the reshaped query tensor\n",
    "        q = q.view(B, T, self.num_groups, self.head_size // self.num_groups)\n",
    "        #q = q.masked_fill(~window_mask.unsqueeze(2), float('-inf'))\n",
    "        q = q.view(B, T, -1)  # Reshape back\n",
    "        # Compute attention using the masked query\n",
    "        out = self.group_query_attention(q, k, v)\n",
    "\n",
    "        # Concatenate the output from each group and apply dropout\n",
    "        out = out.view(B, T, self.head_size)\n",
    "        out = self.dropout(out)\n",
    "        return out\n"
   ]
  },
  {
   "cell_type": "code",
   "execution_count": 35,
   "id": "1b1c41f3",
   "metadata": {},
   "outputs": [],
   "source": [
    "class MultiHeadAttention(nn.Module):\n",
    "    \"\"\" Multiple heads of self-attention in parallel with Group Query Attention and Sliding Window Attention \"\"\"\n",
    "\n",
    "    def __init__(self, num_heads, head_size, num_groups, window_size):\n",
    "        super().__init__()\n",
    "        self.num_heads = num_heads\n",
    "        self.head_size = head_size\n",
    "        self.num_groups = num_groups\n",
    "        self.window_size = window_size\n",
    "\n",
    "        # Create head modules\n",
    "        self.heads = nn.ModuleList([ModifiedHead(n_embd, head_size, num_groups, window_size) for _ in range(num_heads)])\n",
    "        \n",
    "        # Projection for the concatenated output of all heads\n",
    "        self.proj = nn.Linear(num_heads * head_size, n_embd)\n",
    "        self.dropout = nn.Dropout(dropout)\n",
    "\n",
    "    def forward(self, x):\n",
    "        # Concatenate the output of all heads\n",
    "        out = torch.cat([h(x) for h in self.heads], dim=-1)\n",
    "\n",
    "        # Project back to the original embedding size and apply dropout\n",
    "        out = self.dropout(self.proj(out))\n",
    "        return out\n"
   ]
  },
  {
   "cell_type": "code",
   "execution_count": 36,
   "id": "50b1383e",
   "metadata": {},
   "outputs": [],
   "source": [
    "class FeedFoward(nn.Module):\n",
    "    \"\"\" a simple linear layer followed by a non-linearity \"\"\"\n",
    "\n",
    "    def __init__(self, n_embd):\n",
    "        super().__init__()\n",
    "        self.net = nn.Sequential(\n",
    "            nn.Linear(n_embd, 4 * n_embd),\n",
    "            nn.ReLU(),\n",
    "            nn.Linear(4 * n_embd, n_embd),\n",
    "            nn.Dropout(dropout),\n",
    "        )\n",
    "\n",
    "    def forward(self, x):\n",
    "        return self.net(x)\n",
    "    "
   ]
  },
  {
   "cell_type": "code",
   "execution_count": 37,
   "id": "fea8be9d",
   "metadata": {},
   "outputs": [],
   "source": [
    "class Block(nn.Module):\n",
    "    \"\"\" Transformer block with Group Query Attention and Sliding Window Attention \"\"\"\n",
    "\n",
    "    def __init__(self, n_embd, n_head, head_size, num_groups, window_size):\n",
    "        super().__init__()\n",
    "        self.n_head = n_head\n",
    "        self.head_size = head_size\n",
    "        self.num_groups = num_groups\n",
    "        self.window_size = window_size\n",
    "\n",
    "        # Initialize MultiHeadAttention with additional parameters\n",
    "        self.sa = MultiHeadAttention(n_head, head_size, num_groups, window_size)\n",
    "\n",
    "        # Point-wise feed-forward network\n",
    "        self.ffwd = FeedFoward(n_embd)\n",
    "        \n",
    "        # Layer normalization layers\n",
    "        self.ln1 = nn.LayerNorm(n_embd)\n",
    "        self.ln2 = nn.LayerNorm(n_embd)\n",
    "\n",
    "    def forward(self, x):\n",
    "        # Apply self-attention\n",
    "        x = x + self.sa(self.ln1(x))\n",
    "\n",
    "        # Apply feed-forward network\n",
    "        x = x + self.ffwd(self.ln2(x))\n",
    "        return x\n"
   ]
  },
  {
   "cell_type": "code",
   "execution_count": 38,
   "id": "02b3c8b1",
   "metadata": {},
   "outputs": [],
   "source": [
    "import math\n",
    "\n",
    "class RotaryPositionalEmbedding(nn.Module):\n",
    "    def __init__(self, dim, max_seq_len=512):\n",
    "        super().__init__()\n",
    "        # Create constant 'pe' matrix with values dependent on \n",
    "        # pos and i\n",
    "        pe = torch.zeros(max_seq_len, dim)\n",
    "        position = torch.arange(0, max_seq_len, dtype=torch.float).unsqueeze(1)\n",
    "        div_term = torch.exp(torch.arange(0, dim, 2).float() * (-math.log(10000.0) / dim))\n",
    "        pe[:, 0::2] = torch.sin(position * div_term)\n",
    "        pe[:, 1::2] = torch.cos(position * div_term)\n",
    "        pe = pe.unsqueeze(0)\n",
    "        self.register_buffer('pe', pe)\n",
    "\n",
    "    def forward(self, x):\n",
    "        # x: [batch_size, seq_len, embedding_dim]\n",
    "        # Apply RoPE to x\n",
    "        x = x + self.pe[:, :x.size(1)]\n",
    "        return x\n"
   ]
  },
  {
   "cell_type": "code",
   "execution_count": 43,
   "id": "5eafbedd",
   "metadata": {},
   "outputs": [],
   "source": [
    "class MyLM_model(nn.Module):    \n",
    "    def __init__(self):\n",
    "        super().__init__()\n",
    "        head_size = n_embd // n_head \n",
    "\n",
    "        self.token_embedding_table = nn.Embedding(vocab_size, n_embd)\n",
    "        self.rotary_pos_emb = RotaryPositionalEmbedding(n_embd, block_size)\n",
    "        self.blocks = nn.Sequential(*[Block(n_embd, n_head, head_size, num_groups, window_size) for _ in range(n_layer)])\n",
    "        self.ln_f = nn.LayerNorm(n_embd) # final layer norm\n",
    "        self.lm_head = nn.Linear(n_embd, vocab_size)\n",
    "\n",
    "    def forward(self, idx, targets=None):\n",
    "        B, T = idx.shape\n",
    "\n",
    "        tok_emb = self.token_embedding_table(idx) # (Batch, Time, Channel)\n",
    "        pos_emb = self.rotary_pos_emb(tok_emb)\n",
    "        x = tok_emb + pos_emb # (B, T, C)\n",
    "        x = self.blocks(x) # (B, T, C)\n",
    "        x = self.ln_f(x) # (B, T, C)\n",
    "        logits = self.lm_head(x) # (B, T, Vocab_size)\n",
    "        \n",
    "        loss = None\n",
    "        if targets is not None:\n",
    "            B, T, C = logits.shape\n",
    "            logits = logits.view(B*T, C)\n",
    "            targets = targets.view(B*T)\n",
    "            loss = F.cross_entropy(logits, targets)\n",
    "\n",
    "        return logits, loss\n",
    "\n",
    "    def generate(self, idx, max_new_tokens):\n",
    "        for _ in range(max_new_tokens):\n",
    "            idx_cond = idx[:, -block_size:]\n",
    "            logits, _ = self(idx_cond)\n",
    "            logits = logits[:, -1, :] # (B, C)\n",
    "            probs = F.softmax(logits, dim=-1) # (B, C)\n",
    "            idx_next = torch.multinomial(probs, num_samples=1) # (B, 1)\n",
    "            idx = torch.cat((idx, idx_next), dim=1) # (B, T+1)\n",
    "        return idx"
   ]
  },
  {
   "cell_type": "code",
   "execution_count": 44,
   "id": "74bf9b69",
   "metadata": {},
   "outputs": [],
   "source": [
    "model = MyLM_model()\n",
    "m = model.to(device)\n"
   ]
  },
  {
   "cell_type": "code",
   "execution_count": 45,
   "id": "6465ee08",
   "metadata": {},
   "outputs": [],
   "source": [
    "\n",
    "optimizer = torch.optim.AdamW(model.parameters(), lr=learning_rate)\n"
   ]
  },
  {
   "cell_type": "code",
   "execution_count": 46,
   "id": "678116f9",
   "metadata": {},
   "outputs": [
    {
     "name": "stdout",
     "output_type": "stream",
     "text": [
      "step 0: train loss 3.9424, val loss 3.9492\n",
      "step 100: train loss 2.4156, val loss 2.5504\n",
      "step 200: train loss 1.9097, val loss 2.1963\n",
      "step 300: train loss 1.5717, val loss 2.0734\n",
      "step 400: train loss 1.2980, val loss 2.0132\n",
      "step 500: train loss 1.0776, val loss 2.0224\n",
      "step 600: train loss 0.9080, val loss 2.1022\n",
      "step 700: train loss 0.7519, val loss 2.2191\n",
      "step 800: train loss 0.6534, val loss 2.3362\n",
      "step 900: train loss 0.5496, val loss 2.4616\n",
      "step 1000: train loss 0.4571, val loss 2.5044\n",
      "step 1100: train loss 0.3906, val loss 2.7033\n",
      "step 1200: train loss 0.3275, val loss 2.8324\n",
      "step 1300: train loss 0.2820, val loss 2.8913\n",
      "step 1400: train loss 0.2386, val loss 3.0064\n",
      "step 1500: train loss 0.2172, val loss 3.0814\n",
      "step 1600: train loss 0.1791, val loss 3.2204\n",
      "step 1700: train loss 0.1870, val loss 3.2873\n",
      "step 1800: train loss 0.1329, val loss 3.3753\n",
      "step 1900: train loss 0.1133, val loss 3.5577\n",
      "step 2000: train loss 0.1235, val loss 3.5536\n",
      "step 2100: train loss 0.1049, val loss 3.6398\n",
      "step 2200: train loss 0.0812, val loss 3.7407\n",
      "step 2300: train loss 0.0862, val loss 3.7695\n",
      "step 2400: train loss 0.0649, val loss 3.8533\n",
      "step 2500: train loss 0.0639, val loss 3.9262\n",
      "step 2600: train loss 0.0578, val loss 4.0774\n",
      "step 2700: train loss 0.0599, val loss 4.1057\n",
      "step 2800: train loss 0.0604, val loss 4.1714\n",
      "step 2900: train loss 0.0620, val loss 4.2480\n",
      "step 3000: train loss 0.0536, val loss 4.1831\n",
      "step 3100: train loss 0.0457, val loss 4.3292\n",
      "step 3200: train loss 0.0399, val loss 4.4340\n",
      "step 3300: train loss 0.0414, val loss 4.4037\n",
      "step 3400: train loss 0.0412, val loss 4.5075\n",
      "step 3500: train loss 0.0684, val loss 4.5115\n",
      "step 3600: train loss 0.0429, val loss 4.4381\n",
      "step 3700: train loss 0.0370, val loss 4.5321\n",
      "step 3800: train loss 0.0329, val loss 4.5245\n",
      "step 3900: train loss 0.0349, val loss 4.5433\n",
      "step 4000: train loss 0.0238, val loss 4.6379\n",
      "step 4100: train loss 0.0230, val loss 4.6524\n",
      "step 4200: train loss 0.0249, val loss 4.6621\n",
      "step 4300: train loss 0.0500, val loss 4.7999\n",
      "step 4400: train loss 0.0643, val loss 4.4932\n",
      "step 4500: train loss 0.0355, val loss 4.7231\n",
      "step 4600: train loss 0.0177, val loss 4.8596\n",
      "step 4700: train loss 0.0164, val loss 4.7633\n",
      "step 4800: train loss 0.0200, val loss 4.8290\n",
      "step 4900: train loss 0.0174, val loss 4.8331\n",
      "step 4999: train loss 0.0134, val loss 4.8460\n"
     ]
    },
    {
     "data": {
      "image/png": "[encoded data removed]",
      "text/plain": [
       "<Figure size 640x480 with 1 Axes>"
      ]
     },
     "metadata": {},
     "output_type": "display_data"
    }
   ],
   "source": [
    "train_losses = []\n",
    "val_losses = []\n",
    "\n",
    "for iter in range(max_iters):\n",
    "\n",
    "    # every once in a while evaluate the loss on train and val sets\n",
    "    if iter % eval_interval == 0 or iter == max_iters - 1:\n",
    "        losses = estimate_loss()\n",
    "        train_losses.append(losses['train'].item())\n",
    "        val_losses.append(losses['val'].item())\n",
    "        print(f\"step {iter}: train loss {losses['train']:.4f}, val loss {losses['val']:.4f}\")\n",
    "\n",
    "    # sample a batch of data\n",
    "    xb, yb = get_batch('train')\n",
    "\n",
    "    # evaluate the loss\n",
    "    logits, loss = model(xb, yb)\n",
    "    optimizer.zero_grad(set_to_none=True)\n",
    "    loss.backward()\n",
    "    optimizer.step()\n",
    "plt.plot(train_losses, label='Training Loss')\n",
    "plt.plot(val_losses, label='Validation Loss')\n",
    "plt.title('Training and Validation Loss')\n",
    "plt.xlabel('Evaluation Interval')\n",
    "plt.ylabel('Loss')\n",
    "plt.legend()\n",
    "plt.show()"
   ]
  },
  {
   "cell_type": "code",
   "execution_count": 47,
   "id": "ee523118",
   "metadata": {},
   "outputs": [
    {
     "name": "stdout",
     "output_type": "stream",
     "text": [
      "\n",
      "\n",
      "\n",
      "ThiziziziziDnim GIghe mizay mumumummmmmmmmmmmmmmmmmmmmmmmmmmmmmmmmmmmmmmmmmmmmmmmmmmmmmmmmmmmmmmmmmmmmmmmmmmmmmmmmmmmmmmmmmmmmmmmmmmmmmmmmmmmmmmmmmmmmmmmmmmmmmmmmmmmmmmmmmmmmmmmmmmmmmmmmmmmmmmmmmmmmmmmmmmmmmmmmmmmmmmmmmmmmmmmmmmmmmmmmmmmmmmmmmmmmmmmmmmmmmmmmmmmmmmmmmmmmmmmmmmmmmmmmmmmmmmmmmmmmmmmmmmmmmmmmmmmmmmmmmmmmmmmmmmmmmmmmmmmmmmmmmmmmmmmmmmmmmmmmmmmmmmmmmmmmmmmmmmmmmmmmmmmmmmmmmmmmmmmmmmmmmmmmmmmmmmmmmmmmmmmmmmmmmmmmmmmmmmmmmmmmmmmmmmmmmmmmmmmmmmmmmmmmmmmmmmmmmmmmmmmmmmmmmmmmmmmmmmmmmmmmmmmmmmmmmmmmmmmmmmmmmmmmmmmmmmmmmmmmmmmmmmmmmmmmmmmmmmmmmmmmmmmmmmmmmmmmmmmmmmmmmmmmmmmmmmmmmmmmmmmmmmmmmmmmmmmmmmmmmmmmmmmmmmmmmmmmmmmmmmmmmmmmmmmmmmmmmmmmmmmmmmmmmmmmmmmmmmmmmmmmmmmmmmmmmmmmmmmmmmmmmmmmmmmmmmmmmmmmmmmmmmmmmmmmmmmmmmmmmmmmmmmmmmmmmmmmmmmmmmmmmmmmmmmmmmmmmmmmmmmmmmmmmmmmmmmmmmmmmmmmmmmmmmmmmmmmmmmmmmmmmmmmmmmmmmmmmmmmmmmmmmmmmmmmmmmmmmmmmmmmmmmmmmmmmmmmmmmmmmmmmmmmmmmmmmmmmmmmmmmmmmmmmmmmmmmmmmmmmmmmmmmmmmmmmmmmmmmmmmmmmmmmmmmmmmmmmmmmmmmmmmmmmmmmmmmmmmmmmmmmmmmmmmmmmmmmmmmmmmmm\n"
     ]
    }
   ],
   "source": [
    "# generate from the model\n",
    "context = torch.zeros((1, 1), dtype=torch.long, device=device)\n",
    "print(decode(m.generate(context, max_new_tokens=1000)[0].tolist()))"
   ]
  },
  {
   "cell_type": "code",
   "execution_count": null,
   "id": "0d5a3058",
   "metadata": {},
   "outputs": [],
   "source": []
  }
 ],
 "metadata": {
  "kernelspec": {
   "display_name": "Python 3 (ipykernel)",
   "language": "python",
   "name": "python3"
  },
  "language_info": {
   "codemirror_mode": {
    "name": "ipython",
    "version": 3
   },
   "file_extension": ".py",
   "mimetype": "text/x-python",
   "name": "python",
   "nbconvert_exporter": "python",
   "pygments_lexer": "ipython3",
   "version": "3.11.4"
  }
 },
 "nbformat": 4,
 "nbformat_minor": 5
}
